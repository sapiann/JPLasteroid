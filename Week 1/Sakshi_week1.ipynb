{
  "nbformat": 4,
  "nbformat_minor": 0,
  "metadata": {
    "colab": {
      "provenance": [],
      "toc_visible": true
    },
    "kernelspec": {
      "name": "python3",
      "display_name": "Python 3"
    },
    "language_info": {
      "name": "python"
    }
  },
  "cells": [
    {
      "cell_type": "code",
      "source": [
        "from google.colab import drive\n",
        "drive.mount('/content/drive')"
      ],
      "metadata": {
        "colab": {
          "base_uri": "https://localhost:8080/"
        },
        "id": "dDYiSowUuSUu",
        "outputId": "edc60d3b-809a-4dc6-c4d2-50aaae5c6870"
      },
      "execution_count": 1,
      "outputs": [
        {
          "output_type": "stream",
          "name": "stdout",
          "text": [
            "Mounted at /content/drive\n"
          ]
        }
      ]
    },
    {
      "cell_type": "markdown",
      "source": [
        "### Importing required library modules"
      ],
      "metadata": {
        "id": "yh6TXoElwpMd"
      }
    },
    {
      "cell_type": "code",
      "source": [
        "import pandas as pd\n",
        "import numpy as np\n",
        "import seaborn as sns\n",
        "import warnings\n",
        "warnings.simplefilter(action='ignore', category=FutureWarning)\n",
        "import matplotlib.pyplot as plt\n",
        "%matplotlib inline"
      ],
      "metadata": {
        "id": "MYY-XPDilv3S"
      },
      "execution_count": 2,
      "outputs": []
    },
    {
      "cell_type": "markdown",
      "source": [
        "### Loading dataset\n",
        "There were two datasets avalaible. We'll just get an idea about basic info of each dataset and further proceed with one of them."
      ],
      "metadata": {
        "id": "RzByEDYGw9yn"
      }
    },
    {
      "cell_type": "code",
      "source": [
        "train = pd.read_csv(\"/content/drive/MyDrive/Asteroid_Updated.csv\")\n",
        "t_train = pd.read_csv(\"/content/drive/MyDrive/Asteroid.csv\")"
      ],
      "metadata": {
        "colab": {
          "base_uri": "https://localhost:8080/"
        },
        "id": "tCIz7QzSlxAO",
        "outputId": "c8ba4897-f328-4eac-e038-dae69919a72b"
      },
      "execution_count": 3,
      "outputs": [
        {
          "output_type": "stream",
          "name": "stderr",
          "text": [
            "/usr/local/lib/python3.7/dist-packages/IPython/core/interactiveshell.py:3326: DtypeWarning: Columns (0,10,15,16,23,24) have mixed types.Specify dtype option on import or set low_memory=False.\n",
            "  exec(code_obj, self.user_global_ns, self.user_ns)\n",
            "/usr/local/lib/python3.7/dist-packages/IPython/core/interactiveshell.py:3326: DtypeWarning: Columns (11,14,15,22,23) have mixed types.Specify dtype option on import or set low_memory=False.\n",
            "  exec(code_obj, self.user_global_ns, self.user_ns)\n"
          ]
        }
      ]
    },
    {
      "cell_type": "code",
      "source": [
        "t_train.head()"
      ],
      "metadata": {
        "colab": {
          "base_uri": "https://localhost:8080/",
          "height": 299
        },
        "id": "iK5iRM3xxIM6",
        "outputId": "e5413c01-6db2-4b41-c3d9-ec583046f3bf"
      },
      "execution_count": 4,
      "outputs": [
        {
          "output_type": "execute_result",
          "data": {
            "text/plain": [
              "        full_name         a         e     G          i          om  \\\n",
              "0         1 Ceres  2.769165  0.076009  0.12  10.594067   80.305532   \n",
              "1        2 Pallas  2.772466  0.230337  0.11  34.836234  173.080063   \n",
              "2          3 Juno  2.669150  0.256942  0.32  12.988919  169.852760   \n",
              "3         4 Vesta  2.361418  0.088721  0.32   7.141771  103.810804   \n",
              "4       5 Astraea  2.574249  0.191095   NaN   5.366988  141.576604   \n",
              "\n",
              "            w         q        ad     per_y  ...    rot_per       GM     BV  \\\n",
              "0   73.597694  2.558684  2.979647  4.608202  ...   9.074170  62.6284  0.713   \n",
              "1  310.048857  2.133865  3.411067  4.616444  ...   7.813200  14.3000  0.635   \n",
              "2  248.138626  1.983332  3.354967  4.360814  ...   7.210000      NaN  0.824   \n",
              "3  150.728541  2.151909  2.570926  3.628837  ...   5.342128  17.8000  0.782   \n",
              "4  358.687608  2.082324  3.066174  4.130323  ...  16.806000      NaN  0.826   \n",
              "\n",
              "      UB  IR spec_B  spec_T  neo  pha     moid  \n",
              "0  0.426 NaN      C       G    N    N  1.59478  \n",
              "1  0.284 NaN      B       B    N    N  1.23324  \n",
              "2  0.433 NaN     Sk       S    N    N  1.03454  \n",
              "3  0.492 NaN      V       V    N    N  1.13948  \n",
              "4  0.411 NaN      S       S    N    N  1.09589  \n",
              "\n",
              "[5 rows x 27 columns]"
            ],
            "text/html": [
              "\n",
              "  <div id=\"df-05d94094-6a9a-4251-a401-56f68bde5c98\">\n",
              "    <div class=\"colab-df-container\">\n",
              "      <div>\n",
              "<style scoped>\n",
              "    .dataframe tbody tr th:only-of-type {\n",
              "        vertical-align: middle;\n",
              "    }\n",
              "\n",
              "    .dataframe tbody tr th {\n",
              "        vertical-align: top;\n",
              "    }\n",
              "\n",
              "    .dataframe thead th {\n",
              "        text-align: right;\n",
              "    }\n",
              "</style>\n",
              "<table border=\"1\" class=\"dataframe\">\n",
              "  <thead>\n",
              "    <tr style=\"text-align: right;\">\n",
              "      <th></th>\n",
              "      <th>full_name</th>\n",
              "      <th>a</th>\n",
              "      <th>e</th>\n",
              "      <th>G</th>\n",
              "      <th>i</th>\n",
              "      <th>om</th>\n",
              "      <th>w</th>\n",
              "      <th>q</th>\n",
              "      <th>ad</th>\n",
              "      <th>per_y</th>\n",
              "      <th>...</th>\n",
              "      <th>rot_per</th>\n",
              "      <th>GM</th>\n",
              "      <th>BV</th>\n",
              "      <th>UB</th>\n",
              "      <th>IR</th>\n",
              "      <th>spec_B</th>\n",
              "      <th>spec_T</th>\n",
              "      <th>neo</th>\n",
              "      <th>pha</th>\n",
              "      <th>moid</th>\n",
              "    </tr>\n",
              "  </thead>\n",
              "  <tbody>\n",
              "    <tr>\n",
              "      <th>0</th>\n",
              "      <td>1 Ceres</td>\n",
              "      <td>2.769165</td>\n",
              "      <td>0.076009</td>\n",
              "      <td>0.12</td>\n",
              "      <td>10.594067</td>\n",
              "      <td>80.305532</td>\n",
              "      <td>73.597694</td>\n",
              "      <td>2.558684</td>\n",
              "      <td>2.979647</td>\n",
              "      <td>4.608202</td>\n",
              "      <td>...</td>\n",
              "      <td>9.074170</td>\n",
              "      <td>62.6284</td>\n",
              "      <td>0.713</td>\n",
              "      <td>0.426</td>\n",
              "      <td>NaN</td>\n",
              "      <td>C</td>\n",
              "      <td>G</td>\n",
              "      <td>N</td>\n",
              "      <td>N</td>\n",
              "      <td>1.59478</td>\n",
              "    </tr>\n",
              "    <tr>\n",
              "      <th>1</th>\n",
              "      <td>2 Pallas</td>\n",
              "      <td>2.772466</td>\n",
              "      <td>0.230337</td>\n",
              "      <td>0.11</td>\n",
              "      <td>34.836234</td>\n",
              "      <td>173.080063</td>\n",
              "      <td>310.048857</td>\n",
              "      <td>2.133865</td>\n",
              "      <td>3.411067</td>\n",
              "      <td>4.616444</td>\n",
              "      <td>...</td>\n",
              "      <td>7.813200</td>\n",
              "      <td>14.3000</td>\n",
              "      <td>0.635</td>\n",
              "      <td>0.284</td>\n",
              "      <td>NaN</td>\n",
              "      <td>B</td>\n",
              "      <td>B</td>\n",
              "      <td>N</td>\n",
              "      <td>N</td>\n",
              "      <td>1.23324</td>\n",
              "    </tr>\n",
              "    <tr>\n",
              "      <th>2</th>\n",
              "      <td>3 Juno</td>\n",
              "      <td>2.669150</td>\n",
              "      <td>0.256942</td>\n",
              "      <td>0.32</td>\n",
              "      <td>12.988919</td>\n",
              "      <td>169.852760</td>\n",
              "      <td>248.138626</td>\n",
              "      <td>1.983332</td>\n",
              "      <td>3.354967</td>\n",
              "      <td>4.360814</td>\n",
              "      <td>...</td>\n",
              "      <td>7.210000</td>\n",
              "      <td>NaN</td>\n",
              "      <td>0.824</td>\n",
              "      <td>0.433</td>\n",
              "      <td>NaN</td>\n",
              "      <td>Sk</td>\n",
              "      <td>S</td>\n",
              "      <td>N</td>\n",
              "      <td>N</td>\n",
              "      <td>1.03454</td>\n",
              "    </tr>\n",
              "    <tr>\n",
              "      <th>3</th>\n",
              "      <td>4 Vesta</td>\n",
              "      <td>2.361418</td>\n",
              "      <td>0.088721</td>\n",
              "      <td>0.32</td>\n",
              "      <td>7.141771</td>\n",
              "      <td>103.810804</td>\n",
              "      <td>150.728541</td>\n",
              "      <td>2.151909</td>\n",
              "      <td>2.570926</td>\n",
              "      <td>3.628837</td>\n",
              "      <td>...</td>\n",
              "      <td>5.342128</td>\n",
              "      <td>17.8000</td>\n",
              "      <td>0.782</td>\n",
              "      <td>0.492</td>\n",
              "      <td>NaN</td>\n",
              "      <td>V</td>\n",
              "      <td>V</td>\n",
              "      <td>N</td>\n",
              "      <td>N</td>\n",
              "      <td>1.13948</td>\n",
              "    </tr>\n",
              "    <tr>\n",
              "      <th>4</th>\n",
              "      <td>5 Astraea</td>\n",
              "      <td>2.574249</td>\n",
              "      <td>0.191095</td>\n",
              "      <td>NaN</td>\n",
              "      <td>5.366988</td>\n",
              "      <td>141.576604</td>\n",
              "      <td>358.687608</td>\n",
              "      <td>2.082324</td>\n",
              "      <td>3.066174</td>\n",
              "      <td>4.130323</td>\n",
              "      <td>...</td>\n",
              "      <td>16.806000</td>\n",
              "      <td>NaN</td>\n",
              "      <td>0.826</td>\n",
              "      <td>0.411</td>\n",
              "      <td>NaN</td>\n",
              "      <td>S</td>\n",
              "      <td>S</td>\n",
              "      <td>N</td>\n",
              "      <td>N</td>\n",
              "      <td>1.09589</td>\n",
              "    </tr>\n",
              "  </tbody>\n",
              "</table>\n",
              "<p>5 rows × 27 columns</p>\n",
              "</div>\n",
              "      <button class=\"colab-df-convert\" onclick=\"convertToInteractive('df-05d94094-6a9a-4251-a401-56f68bde5c98')\"\n",
              "              title=\"Convert this dataframe to an interactive table.\"\n",
              "              style=\"display:none;\">\n",
              "        \n",
              "  <svg xmlns=\"http://www.w3.org/2000/svg\" height=\"24px\"viewBox=\"0 0 24 24\"\n",
              "       width=\"24px\">\n",
              "    <path d=\"M0 0h24v24H0V0z\" fill=\"none\"/>\n",
              "    <path d=\"M18.56 5.44l.94 2.06.94-2.06 2.06-.94-2.06-.94-.94-2.06-.94 2.06-2.06.94zm-11 1L8.5 8.5l.94-2.06 2.06-.94-2.06-.94L8.5 2.5l-.94 2.06-2.06.94zm10 10l.94 2.06.94-2.06 2.06-.94-2.06-.94-.94-2.06-.94 2.06-2.06.94z\"/><path d=\"M17.41 7.96l-1.37-1.37c-.4-.4-.92-.59-1.43-.59-.52 0-1.04.2-1.43.59L10.3 9.45l-7.72 7.72c-.78.78-.78 2.05 0 2.83L4 21.41c.39.39.9.59 1.41.59.51 0 1.02-.2 1.41-.59l7.78-7.78 2.81-2.81c.8-.78.8-2.07 0-2.86zM5.41 20L4 18.59l7.72-7.72 1.47 1.35L5.41 20z\"/>\n",
              "  </svg>\n",
              "      </button>\n",
              "      \n",
              "  <style>\n",
              "    .colab-df-container {\n",
              "      display:flex;\n",
              "      flex-wrap:wrap;\n",
              "      gap: 12px;\n",
              "    }\n",
              "\n",
              "    .colab-df-convert {\n",
              "      background-color: #E8F0FE;\n",
              "      border: none;\n",
              "      border-radius: 50%;\n",
              "      cursor: pointer;\n",
              "      display: none;\n",
              "      fill: #1967D2;\n",
              "      height: 32px;\n",
              "      padding: 0 0 0 0;\n",
              "      width: 32px;\n",
              "    }\n",
              "\n",
              "    .colab-df-convert:hover {\n",
              "      background-color: #E2EBFA;\n",
              "      box-shadow: 0px 1px 2px rgba(60, 64, 67, 0.3), 0px 1px 3px 1px rgba(60, 64, 67, 0.15);\n",
              "      fill: #174EA6;\n",
              "    }\n",
              "\n",
              "    [theme=dark] .colab-df-convert {\n",
              "      background-color: #3B4455;\n",
              "      fill: #D2E3FC;\n",
              "    }\n",
              "\n",
              "    [theme=dark] .colab-df-convert:hover {\n",
              "      background-color: #434B5C;\n",
              "      box-shadow: 0px 1px 3px 1px rgba(0, 0, 0, 0.15);\n",
              "      filter: drop-shadow(0px 1px 2px rgba(0, 0, 0, 0.3));\n",
              "      fill: #FFFFFF;\n",
              "    }\n",
              "  </style>\n",
              "\n",
              "      <script>\n",
              "        const buttonEl =\n",
              "          document.querySelector('#df-05d94094-6a9a-4251-a401-56f68bde5c98 button.colab-df-convert');\n",
              "        buttonEl.style.display =\n",
              "          google.colab.kernel.accessAllowed ? 'block' : 'none';\n",
              "\n",
              "        async function convertToInteractive(key) {\n",
              "          const element = document.querySelector('#df-05d94094-6a9a-4251-a401-56f68bde5c98');\n",
              "          const dataTable =\n",
              "            await google.colab.kernel.invokeFunction('convertToInteractive',\n",
              "                                                     [key], {});\n",
              "          if (!dataTable) return;\n",
              "\n",
              "          const docLinkHtml = 'Like what you see? Visit the ' +\n",
              "            '<a target=\"_blank\" href=https://colab.research.google.com/notebooks/data_table.ipynb>data table notebook</a>'\n",
              "            + ' to learn more about interactive tables.';\n",
              "          element.innerHTML = '';\n",
              "          dataTable['output_type'] = 'display_data';\n",
              "          await google.colab.output.renderOutput(dataTable, element);\n",
              "          const docLink = document.createElement('div');\n",
              "          docLink.innerHTML = docLinkHtml;\n",
              "          element.appendChild(docLink);\n",
              "        }\n",
              "      </script>\n",
              "    </div>\n",
              "  </div>\n",
              "  "
            ]
          },
          "metadata": {},
          "execution_count": 4
        }
      ]
    },
    {
      "cell_type": "code",
      "source": [
        "train.head()"
      ],
      "metadata": {
        "id": "xnj5zM-_l67g",
        "colab": {
          "base_uri": "https://localhost:8080/",
          "height": 299
        },
        "outputId": "6e881360-6b54-4d47-928a-f0e0c536d1b5"
      },
      "execution_count": 5,
      "outputs": [
        {
          "output_type": "execute_result",
          "data": {
            "text/plain": [
              "      name         a         e          i          om           w         q  \\\n",
              "0    Ceres  2.769165  0.076009  10.594067   80.305532   73.597694  2.558684   \n",
              "1   Pallas  2.772466  0.230337  34.836234  173.080063  310.048857  2.133865   \n",
              "2     Juno  2.669150  0.256942  12.988919  169.852760  248.138626  1.983332   \n",
              "3    Vesta  2.361418  0.088721   7.141771  103.810804  150.728541  2.151909   \n",
              "4  Astraea  2.574249  0.191095   5.366988  141.576605  358.687607  2.082324   \n",
              "\n",
              "         ad     per_y  data_arc  ...     UB  IR  spec_B spec_T     G     moid  \\\n",
              "0  2.979647  4.608202    8822.0  ...  0.426 NaN       C      G  0.12  1.59478   \n",
              "1  3.411067  4.616444   72318.0  ...  0.284 NaN       B      B  0.11  1.23324   \n",
              "2  3.354967  4.360814   72684.0  ...  0.433 NaN      Sk      S  0.32  1.03454   \n",
              "3  2.570926  3.628837   24288.0  ...  0.492 NaN       V      V  0.32  1.13948   \n",
              "4  3.066174  4.130323   63507.0  ...  0.411 NaN       S      S   NaN  1.09589   \n",
              "\n",
              "  class         n          per          ma  \n",
              "0   MBA  0.213885  1683.145708   77.372096  \n",
              "1   MBA  0.213503  1686.155999   59.699133  \n",
              "2   MBA  0.226019  1592.787285   34.925016  \n",
              "3   MBA  0.271609  1325.432765   95.861936  \n",
              "4   MBA  0.238632  1508.600458  282.366289  \n",
              "\n",
              "[5 rows x 31 columns]"
            ],
            "text/html": [
              "\n",
              "  <div id=\"df-08cb3df9-7fc1-4922-b747-4dcb551844c4\">\n",
              "    <div class=\"colab-df-container\">\n",
              "      <div>\n",
              "<style scoped>\n",
              "    .dataframe tbody tr th:only-of-type {\n",
              "        vertical-align: middle;\n",
              "    }\n",
              "\n",
              "    .dataframe tbody tr th {\n",
              "        vertical-align: top;\n",
              "    }\n",
              "\n",
              "    .dataframe thead th {\n",
              "        text-align: right;\n",
              "    }\n",
              "</style>\n",
              "<table border=\"1\" class=\"dataframe\">\n",
              "  <thead>\n",
              "    <tr style=\"text-align: right;\">\n",
              "      <th></th>\n",
              "      <th>name</th>\n",
              "      <th>a</th>\n",
              "      <th>e</th>\n",
              "      <th>i</th>\n",
              "      <th>om</th>\n",
              "      <th>w</th>\n",
              "      <th>q</th>\n",
              "      <th>ad</th>\n",
              "      <th>per_y</th>\n",
              "      <th>data_arc</th>\n",
              "      <th>...</th>\n",
              "      <th>UB</th>\n",
              "      <th>IR</th>\n",
              "      <th>spec_B</th>\n",
              "      <th>spec_T</th>\n",
              "      <th>G</th>\n",
              "      <th>moid</th>\n",
              "      <th>class</th>\n",
              "      <th>n</th>\n",
              "      <th>per</th>\n",
              "      <th>ma</th>\n",
              "    </tr>\n",
              "  </thead>\n",
              "  <tbody>\n",
              "    <tr>\n",
              "      <th>0</th>\n",
              "      <td>Ceres</td>\n",
              "      <td>2.769165</td>\n",
              "      <td>0.076009</td>\n",
              "      <td>10.594067</td>\n",
              "      <td>80.305532</td>\n",
              "      <td>73.597694</td>\n",
              "      <td>2.558684</td>\n",
              "      <td>2.979647</td>\n",
              "      <td>4.608202</td>\n",
              "      <td>8822.0</td>\n",
              "      <td>...</td>\n",
              "      <td>0.426</td>\n",
              "      <td>NaN</td>\n",
              "      <td>C</td>\n",
              "      <td>G</td>\n",
              "      <td>0.12</td>\n",
              "      <td>1.59478</td>\n",
              "      <td>MBA</td>\n",
              "      <td>0.213885</td>\n",
              "      <td>1683.145708</td>\n",
              "      <td>77.372096</td>\n",
              "    </tr>\n",
              "    <tr>\n",
              "      <th>1</th>\n",
              "      <td>Pallas</td>\n",
              "      <td>2.772466</td>\n",
              "      <td>0.230337</td>\n",
              "      <td>34.836234</td>\n",
              "      <td>173.080063</td>\n",
              "      <td>310.048857</td>\n",
              "      <td>2.133865</td>\n",
              "      <td>3.411067</td>\n",
              "      <td>4.616444</td>\n",
              "      <td>72318.0</td>\n",
              "      <td>...</td>\n",
              "      <td>0.284</td>\n",
              "      <td>NaN</td>\n",
              "      <td>B</td>\n",
              "      <td>B</td>\n",
              "      <td>0.11</td>\n",
              "      <td>1.23324</td>\n",
              "      <td>MBA</td>\n",
              "      <td>0.213503</td>\n",
              "      <td>1686.155999</td>\n",
              "      <td>59.699133</td>\n",
              "    </tr>\n",
              "    <tr>\n",
              "      <th>2</th>\n",
              "      <td>Juno</td>\n",
              "      <td>2.669150</td>\n",
              "      <td>0.256942</td>\n",
              "      <td>12.988919</td>\n",
              "      <td>169.852760</td>\n",
              "      <td>248.138626</td>\n",
              "      <td>1.983332</td>\n",
              "      <td>3.354967</td>\n",
              "      <td>4.360814</td>\n",
              "      <td>72684.0</td>\n",
              "      <td>...</td>\n",
              "      <td>0.433</td>\n",
              "      <td>NaN</td>\n",
              "      <td>Sk</td>\n",
              "      <td>S</td>\n",
              "      <td>0.32</td>\n",
              "      <td>1.03454</td>\n",
              "      <td>MBA</td>\n",
              "      <td>0.226019</td>\n",
              "      <td>1592.787285</td>\n",
              "      <td>34.925016</td>\n",
              "    </tr>\n",
              "    <tr>\n",
              "      <th>3</th>\n",
              "      <td>Vesta</td>\n",
              "      <td>2.361418</td>\n",
              "      <td>0.088721</td>\n",
              "      <td>7.141771</td>\n",
              "      <td>103.810804</td>\n",
              "      <td>150.728541</td>\n",
              "      <td>2.151909</td>\n",
              "      <td>2.570926</td>\n",
              "      <td>3.628837</td>\n",
              "      <td>24288.0</td>\n",
              "      <td>...</td>\n",
              "      <td>0.492</td>\n",
              "      <td>NaN</td>\n",
              "      <td>V</td>\n",
              "      <td>V</td>\n",
              "      <td>0.32</td>\n",
              "      <td>1.13948</td>\n",
              "      <td>MBA</td>\n",
              "      <td>0.271609</td>\n",
              "      <td>1325.432765</td>\n",
              "      <td>95.861936</td>\n",
              "    </tr>\n",
              "    <tr>\n",
              "      <th>4</th>\n",
              "      <td>Astraea</td>\n",
              "      <td>2.574249</td>\n",
              "      <td>0.191095</td>\n",
              "      <td>5.366988</td>\n",
              "      <td>141.576605</td>\n",
              "      <td>358.687607</td>\n",
              "      <td>2.082324</td>\n",
              "      <td>3.066174</td>\n",
              "      <td>4.130323</td>\n",
              "      <td>63507.0</td>\n",
              "      <td>...</td>\n",
              "      <td>0.411</td>\n",
              "      <td>NaN</td>\n",
              "      <td>S</td>\n",
              "      <td>S</td>\n",
              "      <td>NaN</td>\n",
              "      <td>1.09589</td>\n",
              "      <td>MBA</td>\n",
              "      <td>0.238632</td>\n",
              "      <td>1508.600458</td>\n",
              "      <td>282.366289</td>\n",
              "    </tr>\n",
              "  </tbody>\n",
              "</table>\n",
              "<p>5 rows × 31 columns</p>\n",
              "</div>\n",
              "      <button class=\"colab-df-convert\" onclick=\"convertToInteractive('df-08cb3df9-7fc1-4922-b747-4dcb551844c4')\"\n",
              "              title=\"Convert this dataframe to an interactive table.\"\n",
              "              style=\"display:none;\">\n",
              "        \n",
              "  <svg xmlns=\"http://www.w3.org/2000/svg\" height=\"24px\"viewBox=\"0 0 24 24\"\n",
              "       width=\"24px\">\n",
              "    <path d=\"M0 0h24v24H0V0z\" fill=\"none\"/>\n",
              "    <path d=\"M18.56 5.44l.94 2.06.94-2.06 2.06-.94-2.06-.94-.94-2.06-.94 2.06-2.06.94zm-11 1L8.5 8.5l.94-2.06 2.06-.94-2.06-.94L8.5 2.5l-.94 2.06-2.06.94zm10 10l.94 2.06.94-2.06 2.06-.94-2.06-.94-.94-2.06-.94 2.06-2.06.94z\"/><path d=\"M17.41 7.96l-1.37-1.37c-.4-.4-.92-.59-1.43-.59-.52 0-1.04.2-1.43.59L10.3 9.45l-7.72 7.72c-.78.78-.78 2.05 0 2.83L4 21.41c.39.39.9.59 1.41.59.51 0 1.02-.2 1.41-.59l7.78-7.78 2.81-2.81c.8-.78.8-2.07 0-2.86zM5.41 20L4 18.59l7.72-7.72 1.47 1.35L5.41 20z\"/>\n",
              "  </svg>\n",
              "      </button>\n",
              "      \n",
              "  <style>\n",
              "    .colab-df-container {\n",
              "      display:flex;\n",
              "      flex-wrap:wrap;\n",
              "      gap: 12px;\n",
              "    }\n",
              "\n",
              "    .colab-df-convert {\n",
              "      background-color: #E8F0FE;\n",
              "      border: none;\n",
              "      border-radius: 50%;\n",
              "      cursor: pointer;\n",
              "      display: none;\n",
              "      fill: #1967D2;\n",
              "      height: 32px;\n",
              "      padding: 0 0 0 0;\n",
              "      width: 32px;\n",
              "    }\n",
              "\n",
              "    .colab-df-convert:hover {\n",
              "      background-color: #E2EBFA;\n",
              "      box-shadow: 0px 1px 2px rgba(60, 64, 67, 0.3), 0px 1px 3px 1px rgba(60, 64, 67, 0.15);\n",
              "      fill: #174EA6;\n",
              "    }\n",
              "\n",
              "    [theme=dark] .colab-df-convert {\n",
              "      background-color: #3B4455;\n",
              "      fill: #D2E3FC;\n",
              "    }\n",
              "\n",
              "    [theme=dark] .colab-df-convert:hover {\n",
              "      background-color: #434B5C;\n",
              "      box-shadow: 0px 1px 3px 1px rgba(0, 0, 0, 0.15);\n",
              "      filter: drop-shadow(0px 1px 2px rgba(0, 0, 0, 0.3));\n",
              "      fill: #FFFFFF;\n",
              "    }\n",
              "  </style>\n",
              "\n",
              "      <script>\n",
              "        const buttonEl =\n",
              "          document.querySelector('#df-08cb3df9-7fc1-4922-b747-4dcb551844c4 button.colab-df-convert');\n",
              "        buttonEl.style.display =\n",
              "          google.colab.kernel.accessAllowed ? 'block' : 'none';\n",
              "\n",
              "        async function convertToInteractive(key) {\n",
              "          const element = document.querySelector('#df-08cb3df9-7fc1-4922-b747-4dcb551844c4');\n",
              "          const dataTable =\n",
              "            await google.colab.kernel.invokeFunction('convertToInteractive',\n",
              "                                                     [key], {});\n",
              "          if (!dataTable) return;\n",
              "\n",
              "          const docLinkHtml = 'Like what you see? Visit the ' +\n",
              "            '<a target=\"_blank\" href=https://colab.research.google.com/notebooks/data_table.ipynb>data table notebook</a>'\n",
              "            + ' to learn more about interactive tables.';\n",
              "          element.innerHTML = '';\n",
              "          dataTable['output_type'] = 'display_data';\n",
              "          await google.colab.output.renderOutput(dataTable, element);\n",
              "          const docLink = document.createElement('div');\n",
              "          docLink.innerHTML = docLinkHtml;\n",
              "          element.appendChild(docLink);\n",
              "        }\n",
              "      </script>\n",
              "    </div>\n",
              "  </div>\n",
              "  "
            ]
          },
          "metadata": {},
          "execution_count": 5
        }
      ]
    },
    {
      "cell_type": "code",
      "source": [
        "train['diameter']"
      ],
      "metadata": {
        "colab": {
          "base_uri": "https://localhost:8080/"
        },
        "id": "3L5-OpVeHZOr",
        "outputId": "296b95a9-2e10-4797-bf28-474ab364c2f7"
      },
      "execution_count": 6,
      "outputs": [
        {
          "output_type": "execute_result",
          "data": {
            "text/plain": [
              "0           939.4\n",
              "1             545\n",
              "2         246.596\n",
              "3           525.4\n",
              "4         106.699\n",
              "           ...   \n",
              "839709        NaN\n",
              "839710        NaN\n",
              "839711        NaN\n",
              "839712        NaN\n",
              "839713        NaN\n",
              "Name: diameter, Length: 839714, dtype: object"
            ]
          },
          "metadata": {},
          "execution_count": 6
        }
      ]
    },
    {
      "cell_type": "markdown",
      "source": [
        "It's important to understand what values we are analysing to predict the diameter of system. The table below shows the column values name that we are using in our dataset."
      ],
      "metadata": {
        "id": "AGs-a6NsClhh"
      }
    },
    {
      "cell_type": "markdown",
      "source": [
        "![image.png](data:image/png;base64,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)"
      ],
      "metadata": {
        "id": "aTmFrHP5Bw_3"
      }
    },
    {
      "cell_type": "code",
      "source": [
        "train.info()"
      ],
      "metadata": {
        "colab": {
          "base_uri": "https://localhost:8080/"
        },
        "id": "Gcj5QOK8xTDy",
        "outputId": "1dc98a46-dcb0-4a07-9623-fd821e129f8f"
      },
      "execution_count": 7,
      "outputs": [
        {
          "output_type": "stream",
          "name": "stdout",
          "text": [
            "<class 'pandas.core.frame.DataFrame'>\n",
            "RangeIndex: 839714 entries, 0 to 839713\n",
            "Data columns (total 31 columns):\n",
            " #   Column          Non-Null Count   Dtype  \n",
            "---  ------          --------------   -----  \n",
            " 0   name            21967 non-null   object \n",
            " 1   a               839712 non-null  float64\n",
            " 2   e               839714 non-null  float64\n",
            " 3   i               839714 non-null  float64\n",
            " 4   om              839714 non-null  float64\n",
            " 5   w               839714 non-null  float64\n",
            " 6   q               839714 non-null  float64\n",
            " 7   ad              839708 non-null  float64\n",
            " 8   per_y           839713 non-null  float64\n",
            " 9   data_arc        824240 non-null  float64\n",
            " 10  condition_code  838847 non-null  object \n",
            " 11  n_obs_used      839714 non-null  int64  \n",
            " 12  H               837025 non-null  float64\n",
            " 13  neo             839708 non-null  object \n",
            " 14  pha             823272 non-null  object \n",
            " 15  diameter        137636 non-null  object \n",
            " 16  extent          18 non-null      object \n",
            " 17  albedo          136409 non-null  float64\n",
            " 18  rot_per         18796 non-null   float64\n",
            " 19  GM              14 non-null      float64\n",
            " 20  BV              1021 non-null    float64\n",
            " 21  UB              979 non-null     float64\n",
            " 22  IR              1 non-null       float64\n",
            " 23  spec_B          1666 non-null    object \n",
            " 24  spec_T          980 non-null     object \n",
            " 25  G               119 non-null     float64\n",
            " 26  moid            823272 non-null  float64\n",
            " 27  class           839714 non-null  object \n",
            " 28  n               839712 non-null  float64\n",
            " 29  per             839708 non-null  float64\n",
            " 30  ma              839706 non-null  float64\n",
            "dtypes: float64(21), int64(1), object(9)\n",
            "memory usage: 198.6+ MB\n"
          ]
        }
      ]
    },
    {
      "cell_type": "code",
      "source": [
        "t_train.info()"
      ],
      "metadata": {
        "colab": {
          "base_uri": "https://localhost:8080/"
        },
        "id": "_adXEtUIxXq6",
        "outputId": "86303623-109e-4717-bd88-92d2c49c4c74"
      },
      "execution_count": 8,
      "outputs": [
        {
          "output_type": "stream",
          "name": "stdout",
          "text": [
            "<class 'pandas.core.frame.DataFrame'>\n",
            "RangeIndex: 839736 entries, 0 to 839735\n",
            "Data columns (total 27 columns):\n",
            " #   Column          Non-Null Count   Dtype  \n",
            "---  ------          --------------   -----  \n",
            " 0   full_name       839736 non-null  object \n",
            " 1   a               839734 non-null  float64\n",
            " 2   e               839736 non-null  float64\n",
            " 3   G               119 non-null     float64\n",
            " 4   i               839736 non-null  float64\n",
            " 5   om              839736 non-null  float64\n",
            " 6   w               839736 non-null  float64\n",
            " 7   q               839736 non-null  float64\n",
            " 8   ad              839730 non-null  float64\n",
            " 9   per_y           839735 non-null  float64\n",
            " 10  data_arc        823947 non-null  float64\n",
            " 11  condition_code  838743 non-null  object \n",
            " 12  n_obs_used      839736 non-null  int64  \n",
            " 13  H               837042 non-null  float64\n",
            " 14  diameter        137681 non-null  object \n",
            " 15  extent          18 non-null      object \n",
            " 16  albedo          136452 non-null  float64\n",
            " 17  rot_per         18796 non-null   float64\n",
            " 18  GM              14 non-null      float64\n",
            " 19  BV              1021 non-null    float64\n",
            " 20  UB              979 non-null     float64\n",
            " 21  IR              1 non-null       float64\n",
            " 22  spec_B          1666 non-null    object \n",
            " 23  spec_T          980 non-null     object \n",
            " 24  neo             839730 non-null  object \n",
            " 25  pha             822814 non-null  object \n",
            " 26  moid            822814 non-null  float64\n",
            "dtypes: float64(18), int64(1), object(8)\n",
            "memory usage: 173.0+ MB\n"
          ]
        }
      ]
    },
    {
      "cell_type": "markdown",
      "source": [
        "We choose the Asteroid_updated dataset because it has more no of numeric columns that we could use to train our data."
      ],
      "metadata": {
        "id": "eP18_Dp7xdz5"
      }
    },
    {
      "cell_type": "markdown",
      "source": [
        "# Cleaning the dataset"
      ],
      "metadata": {
        "id": "pv8EFCUum3oq"
      }
    },
    {
      "cell_type": "markdown",
      "source": [
        "In this section we will try to clean our existing data set to make it fit for training our model and perform EDA. We will be dropping unuseful column, replace missing vales and organise our data better."
      ],
      "metadata": {
        "id": "kw5ScuK0yAwx"
      }
    },
    {
      "cell_type": "code",
      "source": [
        "## Finding missing values in terms of percentage to get a better idea\n",
        "100 * train.isnull().mean()"
      ],
      "metadata": {
        "colab": {
          "base_uri": "https://localhost:8080/"
        },
        "id": "acjXtnFyx8mz",
        "outputId": "8755ee50-272f-4d61-f7e9-7e0aaea7e9d4"
      },
      "execution_count": 9,
      "outputs": [
        {
          "output_type": "execute_result",
          "data": {
            "text/plain": [
              "name              97.383990\n",
              "a                  0.000238\n",
              "e                  0.000000\n",
              "i                  0.000000\n",
              "om                 0.000000\n",
              "w                  0.000000\n",
              "q                  0.000000\n",
              "ad                 0.000715\n",
              "per_y              0.000119\n",
              "data_arc           1.842770\n",
              "condition_code     0.103249\n",
              "n_obs_used         0.000000\n",
              "H                  0.320228\n",
              "neo                0.000715\n",
              "pha                1.958048\n",
              "diameter          83.609181\n",
              "extent            99.997856\n",
              "albedo            83.755302\n",
              "rot_per           97.761619\n",
              "GM                99.998333\n",
              "BV                99.878411\n",
              "UB                99.883413\n",
              "IR                99.999881\n",
              "spec_B            99.801599\n",
              "spec_T            99.883294\n",
              "G                 99.985829\n",
              "moid               1.958048\n",
              "class              0.000000\n",
              "n                  0.000238\n",
              "per                0.000715\n",
              "ma                 0.000953\n",
              "dtype: float64"
            ]
          },
          "metadata": {},
          "execution_count": 9
        }
      ]
    },
    {
      "cell_type": "markdown",
      "source": [
        "Based on the observation of missing values, we could drop columns with more than 80% missing values except for the diameter column. We can also note a significant number of diameter missing values. We won't be able to use these missing values to train our data so we drop those those columns."
      ],
      "metadata": {
        "id": "dW0D5pAXypmK"
      }
    },
    {
      "cell_type": "code",
      "source": [
        "drop_col = ['H','albedo','name','rot_per','spec_B',\n",
        "             'BV','spec_T','UB','G',\n",
        "             'extent','GM','IR']\n",
        "train.drop(drop_col, axis=1, inplace=True)\n",
        "\n",
        "#There were originally 31 columns, test that there are only 19.\n",
        "len(train.columns)"
      ],
      "metadata": {
        "colab": {
          "base_uri": "https://localhost:8080/"
        },
        "id": "Ym-H_OCfylXS",
        "outputId": "4abbb301-1616-402a-b7f6-e78001149c6a"
      },
      "execution_count": 10,
      "outputs": [
        {
          "output_type": "execute_result",
          "data": {
            "text/plain": [
              "19"
            ]
          },
          "metadata": {},
          "execution_count": 10
        }
      ]
    },
    {
      "cell_type": "markdown",
      "source": [
        "As we have not been given test data separately, we will use the rows with null diameter values as our test data."
      ],
      "metadata": {
        "id": "ICwPko6W1s8s"
      }
    },
    {
      "cell_type": "code",
      "source": [
        "test = train[train['diameter'].isna()]"
      ],
      "metadata": {
        "id": "SSAohsDxGN4X"
      },
      "execution_count": 11,
      "outputs": []
    },
    {
      "cell_type": "code",
      "source": [
        "train = train.dropna(axis=0, subset=['diameter'])"
      ],
      "metadata": {
        "id": "uxDWN6Wuytyy"
      },
      "execution_count": 12,
      "outputs": []
    },
    {
      "cell_type": "code",
      "source": [
        "## Finding length of of remaining rows after removing null diameter\n",
        "len(train.index)"
      ],
      "metadata": {
        "colab": {
          "base_uri": "https://localhost:8080/"
        },
        "id": "pzPR14J0yt9_",
        "outputId": "a7e8ea2b-f270-4252-d6aa-28e7126e7891"
      },
      "execution_count": 13,
      "outputs": [
        {
          "output_type": "execute_result",
          "data": {
            "text/plain": [
              "137636"
            ]
          },
          "metadata": {},
          "execution_count": 13
        }
      ]
    },
    {
      "cell_type": "markdown",
      "source": [
        "### Object to float/numeric conversion¶"
      ],
      "metadata": {
        "id": "N78Wr3lcyzFT"
      }
    },
    {
      "cell_type": "markdown",
      "source": [],
      "metadata": {
        "id": "lFNuLJw8x_GJ"
      }
    },
    {
      "cell_type": "code",
      "source": [
        "# converting diameter from object to float value\n",
        "train['diameter'] = train.diameter.astype(float)"
      ],
      "metadata": {
        "colab": {
          "base_uri": "https://localhost:8080/"
        },
        "id": "TdgX3tbpy5uq",
        "outputId": "1ab6545f-2d63-4e6c-ab79-d3685f53840e"
      },
      "execution_count": 14,
      "outputs": [
        {
          "output_type": "stream",
          "name": "stderr",
          "text": [
            "/usr/local/lib/python3.7/dist-packages/ipykernel_launcher.py:2: SettingWithCopyWarning: \n",
            "A value is trying to be set on a copy of a slice from a DataFrame.\n",
            "Try using .loc[row_indexer,col_indexer] = value instead\n",
            "\n",
            "See the caveats in the documentation: https://pandas.pydata.org/pandas-docs/stable/user_guide/indexing.html#returning-a-view-versus-a-copy\n",
            "  \n"
          ]
        }
      ]
    },
    {
      "cell_type": "code",
      "source": [
        "train.info()"
      ],
      "metadata": {
        "colab": {
          "base_uri": "https://localhost:8080/"
        },
        "id": "vEYW61n-y_d4",
        "outputId": "2cdd01e3-86ce-476b-f6f8-99f0bdaf774e"
      },
      "execution_count": 15,
      "outputs": [
        {
          "output_type": "stream",
          "name": "stdout",
          "text": [
            "<class 'pandas.core.frame.DataFrame'>\n",
            "Int64Index: 137636 entries, 0 to 810375\n",
            "Data columns (total 19 columns):\n",
            " #   Column          Non-Null Count   Dtype  \n",
            "---  ------          --------------   -----  \n",
            " 0   a               137636 non-null  float64\n",
            " 1   e               137636 non-null  float64\n",
            " 2   i               137636 non-null  float64\n",
            " 3   om              137636 non-null  float64\n",
            " 4   w               137636 non-null  float64\n",
            " 5   q               137636 non-null  float64\n",
            " 6   ad              137636 non-null  float64\n",
            " 7   per_y           137636 non-null  float64\n",
            " 8   data_arc        137498 non-null  float64\n",
            " 9   condition_code  137636 non-null  object \n",
            " 10  n_obs_used      137636 non-null  int64  \n",
            " 11  neo             137636 non-null  object \n",
            " 12  pha             137636 non-null  object \n",
            " 13  diameter        137636 non-null  float64\n",
            " 14  moid            137636 non-null  float64\n",
            " 15  class           137636 non-null  object \n",
            " 16  n               137636 non-null  float64\n",
            " 17  per             137636 non-null  float64\n",
            " 18  ma              137636 non-null  float64\n",
            "dtypes: float64(14), int64(1), object(4)\n",
            "memory usage: 21.0+ MB\n"
          ]
        }
      ]
    },
    {
      "cell_type": "markdown",
      "source": [
        "We would want to convert class, neo, pha, condition_code columns values to numeric form. For that we first get an idea of the unique string/character values stored in these columns and represent them with integer values."
      ],
      "metadata": {
        "id": "o3cFspm_zPOG"
      }
    },
    {
      "cell_type": "markdown",
      "source": [],
      "metadata": {
        "id": "P0le61buzSa7"
      }
    },
    {
      "cell_type": "code",
      "source": [
        "train.neo.unique()"
      ],
      "metadata": {
        "colab": {
          "base_uri": "https://localhost:8080/"
        },
        "id": "GMaLCIFLy_ha",
        "outputId": "b860f195-91fc-495c-d420-c7b79a2faad9"
      },
      "execution_count": 16,
      "outputs": [
        {
          "output_type": "execute_result",
          "data": {
            "text/plain": [
              "array(['N', 'Y'], dtype=object)"
            ]
          },
          "metadata": {},
          "execution_count": 16
        }
      ]
    },
    {
      "cell_type": "code",
      "source": [
        "train['neo'].value_counts()"
      ],
      "metadata": {
        "colab": {
          "base_uri": "https://localhost:8080/"
        },
        "id": "lgZQHQ9KzDjO",
        "outputId": "258ddc39-e15e-4def-bce2-e3f99fd9bc8a"
      },
      "execution_count": 17,
      "outputs": [
        {
          "output_type": "execute_result",
          "data": {
            "text/plain": [
              "N    136786\n",
              "Y       850\n",
              "Name: neo, dtype: int64"
            ]
          },
          "metadata": {},
          "execution_count": 17
        }
      ]
    },
    {
      "cell_type": "code",
      "source": [
        "train['pha'].value_counts()"
      ],
      "metadata": {
        "colab": {
          "base_uri": "https://localhost:8080/"
        },
        "id": "8iorpMD4zFz8",
        "outputId": "1a996d66-0ac5-4223-b7a7-68b31cc02960"
      },
      "execution_count": 18,
      "outputs": [
        {
          "output_type": "execute_result",
          "data": {
            "text/plain": [
              "N    137415\n",
              "Y       221\n",
              "Name: pha, dtype: int64"
            ]
          },
          "metadata": {},
          "execution_count": 18
        }
      ]
    },
    {
      "cell_type": "code",
      "source": [
        "train['class'].value_counts()"
      ],
      "metadata": {
        "colab": {
          "base_uri": "https://localhost:8080/"
        },
        "id": "ekhfnUoGzKWm",
        "outputId": "eafccfa5-4513-4ed0-b2cb-c98e4fe9c2ff"
      },
      "execution_count": 19,
      "outputs": [
        {
          "output_type": "execute_result",
          "data": {
            "text/plain": [
              "MBA    126390\n",
              "OMB      7510\n",
              "TJN      1874\n",
              "IMB       588\n",
              "APO       486\n",
              "MCA       355\n",
              "AMO       269\n",
              "ATE        95\n",
              "CEN        49\n",
              "TNO        13\n",
              "AST         7\n",
              "Name: class, dtype: int64"
            ]
          },
          "metadata": {},
          "execution_count": 19
        }
      ]
    },
    {
      "cell_type": "code",
      "source": [
        "train['condition_code'].value_counts()"
      ],
      "metadata": {
        "colab": {
          "base_uri": "https://localhost:8080/"
        },
        "id": "h-9zjTPazL1m",
        "outputId": "6f685b0d-9040-4033-f0ff-503f0c97e5de"
      },
      "execution_count": 20,
      "outputs": [
        {
          "output_type": "execute_result",
          "data": {
            "text/plain": [
              "0      126194\n",
              "9        5643\n",
              "0        2019\n",
              "9.0       863\n",
              "1         808\n",
              "1         565\n",
              "2         302\n",
              "5         241\n",
              "6         152\n",
              "4         143\n",
              "3         135\n",
              "7         129\n",
              "2          94\n",
              "5.0        92\n",
              "7.0        78\n",
              "8          49\n",
              "6.0        36\n",
              "4.0        33\n",
              "3          32\n",
              "8.0        28\n",
              "Name: condition_code, dtype: int64"
            ]
          },
          "metadata": {},
          "execution_count": 20
        }
      ]
    },
    {
      "cell_type": "markdown",
      "source": [
        "It can be observed for the condition_code column that the unique values we get after using value_counts are reapeated too(like 5.0 and 5 are mentioned separately) so we use \"pd.to_numeric\" to convert it in one form only.This could be due to inconsistency in the dataset. Like there could be integers, floats, and strings values. We created a consistent column below."
      ],
      "metadata": {
        "id": "ygaqgvTGzTka"
      }
    },
    {
      "cell_type": "code",
      "source": [
        "train.condition_code = pd.to_numeric(train.condition_code, errors='coerce')"
      ],
      "metadata": {
        "id": "IODgSwLkzWNo"
      },
      "execution_count": 21,
      "outputs": []
    },
    {
      "cell_type": "markdown",
      "source": [
        "### Label Encoding"
      ],
      "metadata": {
        "id": "emr4F92ozbF6"
      }
    },
    {
      "cell_type": "code",
      "source": [
        "from sklearn.preprocessing import LabelEncoder\n",
        "cols = ['neo', 'pha','class']\n",
        "le = LabelEncoder()\n",
        "\n",
        "for col in cols:\n",
        "    train[col] = le.fit_transform(train[col])\n",
        "    \n",
        "train.head()"
      ],
      "metadata": {
        "colab": {
          "base_uri": "https://localhost:8080/",
          "height": 270
        },
        "id": "KkOCarz-zfF_",
        "outputId": "8458ef47-fc7d-495a-c990-57ad5fab25a4"
      },
      "execution_count": 22,
      "outputs": [
        {
          "output_type": "execute_result",
          "data": {
            "text/plain": [
              "          a         e          i          om           w         q        ad  \\\n",
              "0  2.769165  0.076009  10.594067   80.305532   73.597694  2.558684  2.979647   \n",
              "1  2.772466  0.230337  34.836234  173.080063  310.048857  2.133865  3.411067   \n",
              "2  2.669150  0.256942  12.988919  169.852760  248.138626  1.983332  3.354967   \n",
              "3  2.361418  0.088721   7.141771  103.810804  150.728541  2.151909  2.570926   \n",
              "4  2.574249  0.191095   5.366988  141.576605  358.687607  2.082324  3.066174   \n",
              "\n",
              "      per_y  data_arc  condition_code  n_obs_used  neo  pha  diameter  \\\n",
              "0  4.608202    8822.0             0.0        1002    0    0   939.400   \n",
              "1  4.616444   72318.0             0.0        8490    0    0   545.000   \n",
              "2  4.360814   72684.0             0.0        7104    0    0   246.596   \n",
              "3  3.628837   24288.0             0.0        9325    0    0   525.400   \n",
              "4  4.130323   63507.0             0.0        2916    0    0   106.699   \n",
              "\n",
              "      moid  class         n          per          ma  \n",
              "0  1.59478      6  0.213885  1683.145708   77.372096  \n",
              "1  1.23324      6  0.213503  1686.155999   59.699133  \n",
              "2  1.03454      6  0.226019  1592.787285   34.925016  \n",
              "3  1.13948      6  0.271609  1325.432765   95.861936  \n",
              "4  1.09589      6  0.238632  1508.600458  282.366289  "
            ],
            "text/html": [
              "\n",
              "  <div id=\"df-b0e16399-d1e6-4feb-88d4-e79dc6ca87e2\">\n",
              "    <div class=\"colab-df-container\">\n",
              "      <div>\n",
              "<style scoped>\n",
              "    .dataframe tbody tr th:only-of-type {\n",
              "        vertical-align: middle;\n",
              "    }\n",
              "\n",
              "    .dataframe tbody tr th {\n",
              "        vertical-align: top;\n",
              "    }\n",
              "\n",
              "    .dataframe thead th {\n",
              "        text-align: right;\n",
              "    }\n",
              "</style>\n",
              "<table border=\"1\" class=\"dataframe\">\n",
              "  <thead>\n",
              "    <tr style=\"text-align: right;\">\n",
              "      <th></th>\n",
              "      <th>a</th>\n",
              "      <th>e</th>\n",
              "      <th>i</th>\n",
              "      <th>om</th>\n",
              "      <th>w</th>\n",
              "      <th>q</th>\n",
              "      <th>ad</th>\n",
              "      <th>per_y</th>\n",
              "      <th>data_arc</th>\n",
              "      <th>condition_code</th>\n",
              "      <th>n_obs_used</th>\n",
              "      <th>neo</th>\n",
              "      <th>pha</th>\n",
              "      <th>diameter</th>\n",
              "      <th>moid</th>\n",
              "      <th>class</th>\n",
              "      <th>n</th>\n",
              "      <th>per</th>\n",
              "      <th>ma</th>\n",
              "    </tr>\n",
              "  </thead>\n",
              "  <tbody>\n",
              "    <tr>\n",
              "      <th>0</th>\n",
              "      <td>2.769165</td>\n",
              "      <td>0.076009</td>\n",
              "      <td>10.594067</td>\n",
              "      <td>80.305532</td>\n",
              "      <td>73.597694</td>\n",
              "      <td>2.558684</td>\n",
              "      <td>2.979647</td>\n",
              "      <td>4.608202</td>\n",
              "      <td>8822.0</td>\n",
              "      <td>0.0</td>\n",
              "      <td>1002</td>\n",
              "      <td>0</td>\n",
              "      <td>0</td>\n",
              "      <td>939.400</td>\n",
              "      <td>1.59478</td>\n",
              "      <td>6</td>\n",
              "      <td>0.213885</td>\n",
              "      <td>1683.145708</td>\n",
              "      <td>77.372096</td>\n",
              "    </tr>\n",
              "    <tr>\n",
              "      <th>1</th>\n",
              "      <td>2.772466</td>\n",
              "      <td>0.230337</td>\n",
              "      <td>34.836234</td>\n",
              "      <td>173.080063</td>\n",
              "      <td>310.048857</td>\n",
              "      <td>2.133865</td>\n",
              "      <td>3.411067</td>\n",
              "      <td>4.616444</td>\n",
              "      <td>72318.0</td>\n",
              "      <td>0.0</td>\n",
              "      <td>8490</td>\n",
              "      <td>0</td>\n",
              "      <td>0</td>\n",
              "      <td>545.000</td>\n",
              "      <td>1.23324</td>\n",
              "      <td>6</td>\n",
              "      <td>0.213503</td>\n",
              "      <td>1686.155999</td>\n",
              "      <td>59.699133</td>\n",
              "    </tr>\n",
              "    <tr>\n",
              "      <th>2</th>\n",
              "      <td>2.669150</td>\n",
              "      <td>0.256942</td>\n",
              "      <td>12.988919</td>\n",
              "      <td>169.852760</td>\n",
              "      <td>248.138626</td>\n",
              "      <td>1.983332</td>\n",
              "      <td>3.354967</td>\n",
              "      <td>4.360814</td>\n",
              "      <td>72684.0</td>\n",
              "      <td>0.0</td>\n",
              "      <td>7104</td>\n",
              "      <td>0</td>\n",
              "      <td>0</td>\n",
              "      <td>246.596</td>\n",
              "      <td>1.03454</td>\n",
              "      <td>6</td>\n",
              "      <td>0.226019</td>\n",
              "      <td>1592.787285</td>\n",
              "      <td>34.925016</td>\n",
              "    </tr>\n",
              "    <tr>\n",
              "      <th>3</th>\n",
              "      <td>2.361418</td>\n",
              "      <td>0.088721</td>\n",
              "      <td>7.141771</td>\n",
              "      <td>103.810804</td>\n",
              "      <td>150.728541</td>\n",
              "      <td>2.151909</td>\n",
              "      <td>2.570926</td>\n",
              "      <td>3.628837</td>\n",
              "      <td>24288.0</td>\n",
              "      <td>0.0</td>\n",
              "      <td>9325</td>\n",
              "      <td>0</td>\n",
              "      <td>0</td>\n",
              "      <td>525.400</td>\n",
              "      <td>1.13948</td>\n",
              "      <td>6</td>\n",
              "      <td>0.271609</td>\n",
              "      <td>1325.432765</td>\n",
              "      <td>95.861936</td>\n",
              "    </tr>\n",
              "    <tr>\n",
              "      <th>4</th>\n",
              "      <td>2.574249</td>\n",
              "      <td>0.191095</td>\n",
              "      <td>5.366988</td>\n",
              "      <td>141.576605</td>\n",
              "      <td>358.687607</td>\n",
              "      <td>2.082324</td>\n",
              "      <td>3.066174</td>\n",
              "      <td>4.130323</td>\n",
              "      <td>63507.0</td>\n",
              "      <td>0.0</td>\n",
              "      <td>2916</td>\n",
              "      <td>0</td>\n",
              "      <td>0</td>\n",
              "      <td>106.699</td>\n",
              "      <td>1.09589</td>\n",
              "      <td>6</td>\n",
              "      <td>0.238632</td>\n",
              "      <td>1508.600458</td>\n",
              "      <td>282.366289</td>\n",
              "    </tr>\n",
              "  </tbody>\n",
              "</table>\n",
              "</div>\n",
              "      <button class=\"colab-df-convert\" onclick=\"convertToInteractive('df-b0e16399-d1e6-4feb-88d4-e79dc6ca87e2')\"\n",
              "              title=\"Convert this dataframe to an interactive table.\"\n",
              "              style=\"display:none;\">\n",
              "        \n",
              "  <svg xmlns=\"http://www.w3.org/2000/svg\" height=\"24px\"viewBox=\"0 0 24 24\"\n",
              "       width=\"24px\">\n",
              "    <path d=\"M0 0h24v24H0V0z\" fill=\"none\"/>\n",
              "    <path d=\"M18.56 5.44l.94 2.06.94-2.06 2.06-.94-2.06-.94-.94-2.06-.94 2.06-2.06.94zm-11 1L8.5 8.5l.94-2.06 2.06-.94-2.06-.94L8.5 2.5l-.94 2.06-2.06.94zm10 10l.94 2.06.94-2.06 2.06-.94-2.06-.94-.94-2.06-.94 2.06-2.06.94z\"/><path d=\"M17.41 7.96l-1.37-1.37c-.4-.4-.92-.59-1.43-.59-.52 0-1.04.2-1.43.59L10.3 9.45l-7.72 7.72c-.78.78-.78 2.05 0 2.83L4 21.41c.39.39.9.59 1.41.59.51 0 1.02-.2 1.41-.59l7.78-7.78 2.81-2.81c.8-.78.8-2.07 0-2.86zM5.41 20L4 18.59l7.72-7.72 1.47 1.35L5.41 20z\"/>\n",
              "  </svg>\n",
              "      </button>\n",
              "      \n",
              "  <style>\n",
              "    .colab-df-container {\n",
              "      display:flex;\n",
              "      flex-wrap:wrap;\n",
              "      gap: 12px;\n",
              "    }\n",
              "\n",
              "    .colab-df-convert {\n",
              "      background-color: #E8F0FE;\n",
              "      border: none;\n",
              "      border-radius: 50%;\n",
              "      cursor: pointer;\n",
              "      display: none;\n",
              "      fill: #1967D2;\n",
              "      height: 32px;\n",
              "      padding: 0 0 0 0;\n",
              "      width: 32px;\n",
              "    }\n",
              "\n",
              "    .colab-df-convert:hover {\n",
              "      background-color: #E2EBFA;\n",
              "      box-shadow: 0px 1px 2px rgba(60, 64, 67, 0.3), 0px 1px 3px 1px rgba(60, 64, 67, 0.15);\n",
              "      fill: #174EA6;\n",
              "    }\n",
              "\n",
              "    [theme=dark] .colab-df-convert {\n",
              "      background-color: #3B4455;\n",
              "      fill: #D2E3FC;\n",
              "    }\n",
              "\n",
              "    [theme=dark] .colab-df-convert:hover {\n",
              "      background-color: #434B5C;\n",
              "      box-shadow: 0px 1px 3px 1px rgba(0, 0, 0, 0.15);\n",
              "      filter: drop-shadow(0px 1px 2px rgba(0, 0, 0, 0.3));\n",
              "      fill: #FFFFFF;\n",
              "    }\n",
              "  </style>\n",
              "\n",
              "      <script>\n",
              "        const buttonEl =\n",
              "          document.querySelector('#df-b0e16399-d1e6-4feb-88d4-e79dc6ca87e2 button.colab-df-convert');\n",
              "        buttonEl.style.display =\n",
              "          google.colab.kernel.accessAllowed ? 'block' : 'none';\n",
              "\n",
              "        async function convertToInteractive(key) {\n",
              "          const element = document.querySelector('#df-b0e16399-d1e6-4feb-88d4-e79dc6ca87e2');\n",
              "          const dataTable =\n",
              "            await google.colab.kernel.invokeFunction('convertToInteractive',\n",
              "                                                     [key], {});\n",
              "          if (!dataTable) return;\n",
              "\n",
              "          const docLinkHtml = 'Like what you see? Visit the ' +\n",
              "            '<a target=\"_blank\" href=https://colab.research.google.com/notebooks/data_table.ipynb>data table notebook</a>'\n",
              "            + ' to learn more about interactive tables.';\n",
              "          element.innerHTML = '';\n",
              "          dataTable['output_type'] = 'display_data';\n",
              "          await google.colab.output.renderOutput(dataTable, element);\n",
              "          const docLink = document.createElement('div');\n",
              "          docLink.innerHTML = docLinkHtml;\n",
              "          element.appendChild(docLink);\n",
              "        }\n",
              "      </script>\n",
              "    </div>\n",
              "  </div>\n",
              "  "
            ]
          },
          "metadata": {},
          "execution_count": 22
        }
      ]
    },
    {
      "cell_type": "markdown",
      "source": [
        "## Missing values filling"
      ],
      "metadata": {
        "id": "LPD_caQK-swm"
      }
    },
    {
      "cell_type": "code",
      "source": [
        "train.isnull().sum()"
      ],
      "metadata": {
        "colab": {
          "base_uri": "https://localhost:8080/"
        },
        "id": "Hq6_pWEi8Yg6",
        "outputId": "9e869b64-7a36-4d82-8ed9-2f36d39b0c35"
      },
      "execution_count": 23,
      "outputs": [
        {
          "output_type": "execute_result",
          "data": {
            "text/plain": [
              "a                   0\n",
              "e                   0\n",
              "i                   0\n",
              "om                  0\n",
              "w                   0\n",
              "q                   0\n",
              "ad                  0\n",
              "per_y               0\n",
              "data_arc          138\n",
              "condition_code      0\n",
              "n_obs_used          0\n",
              "neo                 0\n",
              "pha                 0\n",
              "diameter            0\n",
              "moid                0\n",
              "class               0\n",
              "n                   0\n",
              "per                 0\n",
              "ma                  0\n",
              "dtype: int64"
            ]
          },
          "metadata": {},
          "execution_count": 23
        }
      ]
    },
    {
      "cell_type": "markdown",
      "source": [
        "We can see some missing values in data_arc, so we try to fill in those values after observing our data."
      ],
      "metadata": {
        "id": "KLc8ZxyR-LOR"
      }
    },
    {
      "cell_type": "code",
      "source": [
        "sns.distplot(train['data_arc'])"
      ],
      "metadata": {
        "colab": {
          "base_uri": "https://localhost:8080/",
          "height": 297
        },
        "id": "JAF1VSc38YsW",
        "outputId": "8f9e1fd3-3dc8-48f1-f43d-3d6e7eaf90e4"
      },
      "execution_count": 24,
      "outputs": [
        {
          "output_type": "execute_result",
          "data": {
            "text/plain": [
              "<matplotlib.axes._subplots.AxesSubplot at 0x7f409a1ae210>"
            ]
          },
          "metadata": {},
          "execution_count": 24
        },
        {
          "output_type": "display_data",
          "data": {
            "text/plain": [
              "<Figure size 432x288 with 1 Axes>"
            ],
            "image/png": "[encoded data removed]"
          },
          "metadata": {
            "needs_background": "light"
          }
        }
      ]
    },
    {
      "cell_type": "markdown",
      "source": [
        "So data_arc has a skewed plot. It is positively skewed so we can't use mean values to replace existing values. Hence we go for median."
      ],
      "metadata": {
        "id": "Cz8iM1yG_LV0"
      }
    },
    {
      "cell_type": "code",
      "source": [
        "train['data_arc']"
      ],
      "metadata": {
        "colab": {
          "base_uri": "https://localhost:8080/"
        },
        "id": "IYHbLgzM_pK1",
        "outputId": "b5e42cd5-66ef-406d-863f-f607afb7c6ad"
      },
      "execution_count": 25,
      "outputs": [
        {
          "output_type": "execute_result",
          "data": {
            "text/plain": [
              "0          8822.0\n",
              "1         72318.0\n",
              "2         72684.0\n",
              "3         24288.0\n",
              "4         63507.0\n",
              "           ...   \n",
              "797860     2373.0\n",
              "798077     3297.0\n",
              "798189     2839.0\n",
              "799752     2208.0\n",
              "810375     3458.0\n",
              "Name: data_arc, Length: 137636, dtype: float64"
            ]
          },
          "metadata": {},
          "execution_count": 25
        }
      ]
    },
    {
      "cell_type": "code",
      "source": [
        "train['data_arc'] = train['data_arc'].fillna(train['data_arc'].median())"
      ],
      "metadata": {
        "id": "9QBQwfLWC5se"
      },
      "execution_count": 26,
      "outputs": []
    },
    {
      "cell_type": "markdown",
      "source": [
        "# Exploratory Data Analysis"
      ],
      "metadata": {
        "id": "HxiOQ2ApE4m8"
      }
    },
    {
      "cell_type": "markdown",
      "source": [
        "In this section, we visualise our data by plotting various graphs and relate values present in the given columns with the diameter."
      ],
      "metadata": {
        "id": "ErCPRD5lFAVM"
      }
    },
    {
      "cell_type": "code",
      "source": [
        "## diameter describing - doubt-why not giving min, max values\n",
        "train['diameter'].describe()"
      ],
      "metadata": {
        "id": "cKx9IFREFRO-",
        "colab": {
          "base_uri": "https://localhost:8080/"
        },
        "outputId": "74073e8f-38a1-428c-d6c6-577193b070b4"
      },
      "execution_count": 27,
      "outputs": [
        {
          "output_type": "execute_result",
          "data": {
            "text/plain": [
              "count    137636.000000\n",
              "mean          5.483228\n",
              "std           9.385735\n",
              "min           0.002500\n",
              "25%           2.770000\n",
              "50%           3.956000\n",
              "75%           5.742000\n",
              "max         939.400000\n",
              "Name: diameter, dtype: float64"
            ]
          },
          "metadata": {},
          "execution_count": 27
        }
      ]
    },
    {
      "cell_type": "code",
      "source": [],
      "metadata": {
        "id": "yU-4QCiRWk5s"
      },
      "execution_count": 27,
      "outputs": []
    },
    {
      "cell_type": "code",
      "source": [
        "#calculate the percentage of neo.\n",
        "train.neo.value_counts(normalize=True)\n",
        "\n",
        "#plot the pie chart for better understanding\n",
        "train.neo.value_counts(normalize=True).plot.pie()\n",
        "plt.show()"
      ],
      "metadata": {
        "id": "oIyc-t6KFRgO",
        "colab": {
          "base_uri": "https://localhost:8080/",
          "height": 248
        },
        "outputId": "83b57fa2-d371-4a5f-a6eb-95f5fd3ac370"
      },
      "execution_count": 28,
      "outputs": [
        {
          "output_type": "display_data",
          "data": {
            "text/plain": [
              "<Figure size 432x288 with 1 Axes>"
            ],
            "image/png": "[encoded data removed]"
          },
          "metadata": {}
        }
      ]
    },
    {
      "cell_type": "markdown",
      "source": [
        "We can observe that for neo as well as pha, N value comprises of a major portion which is more than 90% for both cases. \n",
        "This observation depicts that the number of near earth asteroids are very less, and hazardous object are even lesser."
      ],
      "metadata": {
        "id": "HB7x93mI77rj"
      }
    },
    {
      "cell_type": "code",
      "source": [
        "#calculate the percentage of pha.\n",
        "train.pha.value_counts(normalize=True)\n",
        "\n",
        "#plot the pie chart for better understanding\n",
        "train.pha.value_counts(normalize=True).plot.pie()\n",
        "plt.show()"
      ],
      "metadata": {
        "colab": {
          "base_uri": "https://localhost:8080/",
          "height": 248
        },
        "id": "MPPSITki7Oql",
        "outputId": "81116e1e-aef0-4505-c465-e17bdd0a7e2e"
      },
      "execution_count": 29,
      "outputs": [
        {
          "output_type": "display_data",
          "data": {
            "text/plain": [
              "<Figure size 432x288 with 1 Axes>"
            ],
            "image/png": "[encoded data removed]"
          },
          "metadata": {}
        }
      ]
    },
    {
      "cell_type": "markdown",
      "source": [
        "Whether an asteroid is near earth or hazardous has no role in determining the diameter of the asteroid. So we drop these columns for our prediction."
      ],
      "metadata": {
        "id": "HKWWjU7h8pYw"
      }
    },
    {
      "cell_type": "code",
      "source": [
        "drop_col = ['neo', 'pha']\n",
        "train.drop(drop_col, axis=1, inplace=True)"
      ],
      "metadata": {
        "id": "EDW1WMyy88ix"
      },
      "execution_count": 30,
      "outputs": []
    },
    {
      "cell_type": "code",
      "source": [
        "train['class'].value_counts(normalize=True)\n",
        "\n",
        "#plot the pie chart for better understanding\n",
        "train['class'].value_counts(normalize=True).plot.pie()\n",
        "plt.show()"
      ],
      "metadata": {
        "colab": {
          "base_uri": "https://localhost:8080/",
          "height": 248
        },
        "id": "WQ2TDWec7i02",
        "outputId": "d08d98c2-9d83-4694-9b52-26dc841d66bc"
      },
      "execution_count": 31,
      "outputs": [
        {
          "output_type": "display_data",
          "data": {
            "text/plain": [
              "<Figure size 432x288 with 1 Axes>"
            ],
            "image/png": "[encoded data removed]"
          },
          "metadata": {}
        }
      ]
    },
    {
      "cell_type": "code",
      "source": [
        "sns.boxplot(x='class', y='diameter', data=train)\n",
        "plt.yscale('log');"
      ],
      "metadata": {
        "colab": {
          "base_uri": "https://localhost:8080/",
          "height": 279
        },
        "id": "pxqgSrXa-tmT",
        "outputId": "2475ea49-2a1e-4894-9818-b614a8244233"
      },
      "execution_count": 32,
      "outputs": [
        {
          "output_type": "display_data",
          "data": {
            "text/plain": [
              "<Figure size 432x288 with 1 Axes>"
            ],
            "image/png": "[encoded data removed]"
          },
          "metadata": {
            "needs_background": "light"
          }
        }
      ]
    },
    {
      "cell_type": "markdown",
      "source": [
        "We used the box plot here to get the median values of diameters wrt class. Y has been taken on a log scale as the result obtained without it weren't very clear to observe."
      ],
      "metadata": {
        "id": "xre9oADDWNCb"
      }
    },
    {
      "cell_type": "code",
      "source": [
        "train['condition_code'].value_counts(normalize=True)\n",
        "\n",
        "#plot the pie chart for better understanding\n",
        "train['condition_code'].value_counts(normalize=True).plot.pie()\n",
        "plt.show()"
      ],
      "metadata": {
        "colab": {
          "base_uri": "https://localhost:8080/",
          "height": 248
        },
        "id": "TT2h630g9aL8",
        "outputId": "1473bea3-1c58-4028-94d3-52a4bdbccbd6"
      },
      "execution_count": 33,
      "outputs": [
        {
          "output_type": "display_data",
          "data": {
            "text/plain": [
              "<Figure size 432x288 with 1 Axes>"
            ],
            "image/png": "[encoded data removed]"
          },
          "metadata": {}
        }
      ]
    },
    {
      "cell_type": "code",
      "source": [
        "# count plot to get an idea of count values according to condition code\n",
        "sns.countplot(train['condition_code'])"
      ],
      "metadata": {
        "colab": {
          "base_uri": "https://localhost:8080/",
          "height": 297
        },
        "id": "AdUF6OSbYniZ",
        "outputId": "26c2ff91-244f-4ee1-c9ea-e5d8071ab5de"
      },
      "execution_count": 34,
      "outputs": [
        {
          "output_type": "execute_result",
          "data": {
            "text/plain": [
              "<matplotlib.axes._subplots.AxesSubplot at 0x7f4096648a10>"
            ]
          },
          "metadata": {},
          "execution_count": 34
        },
        {
          "output_type": "display_data",
          "data": {
            "text/plain": [
              "<Figure size 432x288 with 1 Axes>"
            ],
            "image/png": "[encoded data removed]"
          },
          "metadata": {
            "needs_background": "light"
          }
        }
      ]
    },
    {
      "cell_type": "markdown",
      "source": [
        "The condition_code, also known as the U uncertainty parameter, is an integer between 0 and 9 indicating how well an object's orbit is known on a logarithmic scale, where 0 indicates a well-determined orbit."
      ],
      "metadata": {
        "id": "DRzTPRgn9agy"
      }
    },
    {
      "cell_type": "markdown",
      "source": [
        "I have used scatter plot for identifying reltaionship of various aspects with columns as it is easy to observe any outliers, if present."
      ],
      "metadata": {
        "id": "ugt4ht8yfRDH"
      }
    },
    {
      "cell_type": "code",
      "source": [
        "sns.scatterplot(train[\"n\"],train[\"diameter\"])"
      ],
      "metadata": {
        "colab": {
          "base_uri": "https://localhost:8080/",
          "height": 296
        },
        "id": "EPLgb4BKWpxi",
        "outputId": "cd9bfb16-38eb-446a-db65-7306f091e135"
      },
      "execution_count": 35,
      "outputs": [
        {
          "output_type": "execute_result",
          "data": {
            "text/plain": [
              "<matplotlib.axes._subplots.AxesSubplot at 0x7f4096677590>"
            ]
          },
          "metadata": {},
          "execution_count": 35
        },
        {
          "output_type": "display_data",
          "data": {
            "text/plain": [
              "<Figure size 432x288 with 1 Axes>"
            ],
            "image/png": "[encoded data removed]"
          },
          "metadata": {
            "needs_background": "light"
          }
        }
      ]
    },
    {
      "cell_type": "code",
      "source": [
        "sns.scatterplot(train[\"per_y\"],train[\"diameter\"])\n",
        "\n",
        "plt.xscale('log');"
      ],
      "metadata": {
        "colab": {
          "base_uri": "https://localhost:8080/",
          "height": 299
        },
        "id": "R8chwrkFdAvS",
        "outputId": "b37847f2-db6b-4530-d916-c53c48c71d2e"
      },
      "execution_count": 55,
      "outputs": [
        {
          "output_type": "display_data",
          "data": {
            "text/plain": [
              "<Figure size 432x288 with 1 Axes>"
            ],
            "image/png": "[encoded data removed]"
          },
          "metadata": {}
        }
      ]
    },
    {
      "cell_type": "markdown",
      "source": [
        "Figure shows relation of orbital period with diameter."
      ],
      "metadata": {
        "id": "hI5jDLxHfCnt"
      }
    },
    {
      "cell_type": "code",
      "source": [
        "col = [\"a\",\"moid\"]\n",
        "for j in col: \n",
        "  sns.scatterplot(train[j],train[\"diameter\"])\n",
        "  plt.xscale('log');"
      ],
      "metadata": {
        "colab": {
          "base_uri": "https://localhost:8080/",
          "height": 299
        },
        "id": "CTRTQQSjflmt",
        "outputId": "0f91e684-4628-4c60-ddef-2bad3a80a4d8"
      },
      "execution_count": 49,
      "outputs": [
        {
          "output_type": "display_data",
          "data": {
            "text/plain": [
              "<Figure size 432x288 with 1 Axes>"
            ],
            "image/png": "[encoded data removed]"
          },
          "metadata": {}
        }
      ]
    },
    {
      "cell_type": "markdown",
      "source": [
        "*Tried plotting two graphs, how to plot separate graph in loop?"
      ],
      "metadata": {
        "id": "7esYysRI3f7F"
      }
    },
    {
      "cell_type": "code",
      "source": [
        "sns.scatterplot(train[\"data_arc\"],train[\"diameter\"])\n",
        "#plt.xscale('log');"
      ],
      "metadata": {
        "colab": {
          "base_uri": "https://localhost:8080/",
          "height": 297
        },
        "id": "7etOf1Gk08GA",
        "outputId": "80db434c-cb8f-407a-e36b-570a1cf9be93"
      },
      "execution_count": 40,
      "outputs": [
        {
          "output_type": "execute_result",
          "data": {
            "text/plain": [
              "<matplotlib.axes._subplots.AxesSubplot at 0x7f4095a8dad0>"
            ]
          },
          "metadata": {},
          "execution_count": 40
        },
        {
          "output_type": "display_data",
          "data": {
            "text/plain": [
              "<Figure size 432x288 with 1 Axes>"
            ],
            "image/png": "[encoded data removed]"
          },
          "metadata": {
            "needs_background": "light"
          }
        }
      ]
    },
    {
      "cell_type": "markdown",
      "source": [
        "Above graph shows that data_arc values spread through the entire range of diameter and has a realation with it."
      ],
      "metadata": {
        "id": "zucoabmF1ukT"
      }
    },
    {
      "cell_type": "code",
      "source": [
        "plt.figure(figsize=(14,11))\n",
        "sns.set(font_scale=1.2)\n",
        "sns.heatmap(train.corr(),annot=True, cmap='RdYlBu',fmt='.2f', annot_kws={'size':10});"
      ],
      "metadata": {
        "colab": {
          "base_uri": "https://localhost:8080/",
          "height": 583
        },
        "id": "81ZGgkHIa9Ul",
        "outputId": "bc237c98-c6d1-48ab-8381-0326ac3b494e"
      },
      "execution_count": 59,
      "outputs": [
        {
          "output_type": "display_data",
          "data": {
            "text/plain": [
              "<Figure size 1008x792 with 2 Axes>"
            ],
            "image/png": "[encoded data removed]"
          },
          "metadata": {}
        }
      ]
    },
    {
      "cell_type": "code",
      "source": [
        "\n",
        "#train.head()"
      ],
      "metadata": {
        "colab": {
          "base_uri": "https://localhost:8080/",
          "height": 270
        },
        "id": "TCtbf_-i4iFG",
        "outputId": "fa988b90-3590-410b-b1d3-bb8ef53607be"
      },
      "execution_count": 52,
      "outputs": [
        {
          "output_type": "execute_result",
          "data": {
            "text/plain": [
              "          a         e          i          om           w         q        ad  \\\n",
              "0  2.769165  0.076009  10.594067   80.305532   73.597694  2.558684  2.979647   \n",
              "1  2.772466  0.230337  34.836234  173.080063  310.048857  2.133865  3.411067   \n",
              "2  2.669150  0.256942  12.988919  169.852760  248.138626  1.983332  3.354967   \n",
              "3  2.361418  0.088721   7.141771  103.810804  150.728541  2.151909  2.570926   \n",
              "4  2.574249  0.191095   5.366988  141.576605  358.687607  2.082324  3.066174   \n",
              "\n",
              "      per_y  data_arc  condition_code  n_obs_used  diameter     moid  class  \\\n",
              "0  4.608202    8822.0             0.0        1002   939.400  1.59478      6   \n",
              "1  4.616444   72318.0             0.0        8490   545.000  1.23324      6   \n",
              "2  4.360814   72684.0             0.0        7104   246.596  1.03454      6   \n",
              "3  3.628837   24288.0             0.0        9325   525.400  1.13948      6   \n",
              "4  4.130323   63507.0             0.0        2916   106.699  1.09589      6   \n",
              "\n",
              "          n          per          ma  \n",
              "0  0.213885  1683.145708   77.372096  \n",
              "1  0.213503  1686.155999   59.699133  \n",
              "2  0.226019  1592.787285   34.925016  \n",
              "3  0.271609  1325.432765   95.861936  \n",
              "4  0.238632  1508.600458  282.366289  "
            ],
            "text/html": [
              "\n",
              "  <div id=\"df-50e8bb5d-372a-4853-9eb4-5f5195385603\">\n",
              "    <div class=\"colab-df-container\">\n",
              "      <div>\n",
              "<style scoped>\n",
              "    .dataframe tbody tr th:only-of-type {\n",
              "        vertical-align: middle;\n",
              "    }\n",
              "\n",
              "    .dataframe tbody tr th {\n",
              "        vertical-align: top;\n",
              "    }\n",
              "\n",
              "    .dataframe thead th {\n",
              "        text-align: right;\n",
              "    }\n",
              "</style>\n",
              "<table border=\"1\" class=\"dataframe\">\n",
              "  <thead>\n",
              "    <tr style=\"text-align: right;\">\n",
              "      <th></th>\n",
              "      <th>a</th>\n",
              "      <th>e</th>\n",
              "      <th>i</th>\n",
              "      <th>om</th>\n",
              "      <th>w</th>\n",
              "      <th>q</th>\n",
              "      <th>ad</th>\n",
              "      <th>per_y</th>\n",
              "      <th>data_arc</th>\n",
              "      <th>condition_code</th>\n",
              "      <th>n_obs_used</th>\n",
              "      <th>diameter</th>\n",
              "      <th>moid</th>\n",
              "      <th>class</th>\n",
              "      <th>n</th>\n",
              "      <th>per</th>\n",
              "      <th>ma</th>\n",
              "    </tr>\n",
              "  </thead>\n",
              "  <tbody>\n",
              "    <tr>\n",
              "      <th>0</th>\n",
              "      <td>2.769165</td>\n",
              "      <td>0.076009</td>\n",
              "      <td>10.594067</td>\n",
              "      <td>80.305532</td>\n",
              "      <td>73.597694</td>\n",
              "      <td>2.558684</td>\n",
              "      <td>2.979647</td>\n",
              "      <td>4.608202</td>\n",
              "      <td>8822.0</td>\n",
              "      <td>0.0</td>\n",
              "      <td>1002</td>\n",
              "      <td>939.400</td>\n",
              "      <td>1.59478</td>\n",
              "      <td>6</td>\n",
              "      <td>0.213885</td>\n",
              "      <td>1683.145708</td>\n",
              "      <td>77.372096</td>\n",
              "    </tr>\n",
              "    <tr>\n",
              "      <th>1</th>\n",
              "      <td>2.772466</td>\n",
              "      <td>0.230337</td>\n",
              "      <td>34.836234</td>\n",
              "      <td>173.080063</td>\n",
              "      <td>310.048857</td>\n",
              "      <td>2.133865</td>\n",
              "      <td>3.411067</td>\n",
              "      <td>4.616444</td>\n",
              "      <td>72318.0</td>\n",
              "      <td>0.0</td>\n",
              "      <td>8490</td>\n",
              "      <td>545.000</td>\n",
              "      <td>1.23324</td>\n",
              "      <td>6</td>\n",
              "      <td>0.213503</td>\n",
              "      <td>1686.155999</td>\n",
              "      <td>59.699133</td>\n",
              "    </tr>\n",
              "    <tr>\n",
              "      <th>2</th>\n",
              "      <td>2.669150</td>\n",
              "      <td>0.256942</td>\n",
              "      <td>12.988919</td>\n",
              "      <td>169.852760</td>\n",
              "      <td>248.138626</td>\n",
              "      <td>1.983332</td>\n",
              "      <td>3.354967</td>\n",
              "      <td>4.360814</td>\n",
              "      <td>72684.0</td>\n",
              "      <td>0.0</td>\n",
              "      <td>7104</td>\n",
              "      <td>246.596</td>\n",
              "      <td>1.03454</td>\n",
              "      <td>6</td>\n",
              "      <td>0.226019</td>\n",
              "      <td>1592.787285</td>\n",
              "      <td>34.925016</td>\n",
              "    </tr>\n",
              "    <tr>\n",
              "      <th>3</th>\n",
              "      <td>2.361418</td>\n",
              "      <td>0.088721</td>\n",
              "      <td>7.141771</td>\n",
              "      <td>103.810804</td>\n",
              "      <td>150.728541</td>\n",
              "      <td>2.151909</td>\n",
              "      <td>2.570926</td>\n",
              "      <td>3.628837</td>\n",
              "      <td>24288.0</td>\n",
              "      <td>0.0</td>\n",
              "      <td>9325</td>\n",
              "      <td>525.400</td>\n",
              "      <td>1.13948</td>\n",
              "      <td>6</td>\n",
              "      <td>0.271609</td>\n",
              "      <td>1325.432765</td>\n",
              "      <td>95.861936</td>\n",
              "    </tr>\n",
              "    <tr>\n",
              "      <th>4</th>\n",
              "      <td>2.574249</td>\n",
              "      <td>0.191095</td>\n",
              "      <td>5.366988</td>\n",
              "      <td>141.576605</td>\n",
              "      <td>358.687607</td>\n",
              "      <td>2.082324</td>\n",
              "      <td>3.066174</td>\n",
              "      <td>4.130323</td>\n",
              "      <td>63507.0</td>\n",
              "      <td>0.0</td>\n",
              "      <td>2916</td>\n",
              "      <td>106.699</td>\n",
              "      <td>1.09589</td>\n",
              "      <td>6</td>\n",
              "      <td>0.238632</td>\n",
              "      <td>1508.600458</td>\n",
              "      <td>282.366289</td>\n",
              "    </tr>\n",
              "  </tbody>\n",
              "</table>\n",
              "</div>\n",
              "      <button class=\"colab-df-convert\" onclick=\"convertToInteractive('df-50e8bb5d-372a-4853-9eb4-5f5195385603')\"\n",
              "              title=\"Convert this dataframe to an interactive table.\"\n",
              "              style=\"display:none;\">\n",
              "        \n",
              "  <svg xmlns=\"http://www.w3.org/2000/svg\" height=\"24px\"viewBox=\"0 0 24 24\"\n",
              "       width=\"24px\">\n",
              "    <path d=\"M0 0h24v24H0V0z\" fill=\"none\"/>\n",
              "    <path d=\"M18.56 5.44l.94 2.06.94-2.06 2.06-.94-2.06-.94-.94-2.06-.94 2.06-2.06.94zm-11 1L8.5 8.5l.94-2.06 2.06-.94-2.06-.94L8.5 2.5l-.94 2.06-2.06.94zm10 10l.94 2.06.94-2.06 2.06-.94-2.06-.94-.94-2.06-.94 2.06-2.06.94z\"/><path d=\"M17.41 7.96l-1.37-1.37c-.4-.4-.92-.59-1.43-.59-.52 0-1.04.2-1.43.59L10.3 9.45l-7.72 7.72c-.78.78-.78 2.05 0 2.83L4 21.41c.39.39.9.59 1.41.59.51 0 1.02-.2 1.41-.59l7.78-7.78 2.81-2.81c.8-.78.8-2.07 0-2.86zM5.41 20L4 18.59l7.72-7.72 1.47 1.35L5.41 20z\"/>\n",
              "  </svg>\n",
              "      </button>\n",
              "      \n",
              "  <style>\n",
              "    .colab-df-container {\n",
              "      display:flex;\n",
              "      flex-wrap:wrap;\n",
              "      gap: 12px;\n",
              "    }\n",
              "\n",
              "    .colab-df-convert {\n",
              "      background-color: #E8F0FE;\n",
              "      border: none;\n",
              "      border-radius: 50%;\n",
              "      cursor: pointer;\n",
              "      display: none;\n",
              "      fill: #1967D2;\n",
              "      height: 32px;\n",
              "      padding: 0 0 0 0;\n",
              "      width: 32px;\n",
              "    }\n",
              "\n",
              "    .colab-df-convert:hover {\n",
              "      background-color: #E2EBFA;\n",
              "      box-shadow: 0px 1px 2px rgba(60, 64, 67, 0.3), 0px 1px 3px 1px rgba(60, 64, 67, 0.15);\n",
              "      fill: #174EA6;\n",
              "    }\n",
              "\n",
              "    [theme=dark] .colab-df-convert {\n",
              "      background-color: #3B4455;\n",
              "      fill: #D2E3FC;\n",
              "    }\n",
              "\n",
              "    [theme=dark] .colab-df-convert:hover {\n",
              "      background-color: #434B5C;\n",
              "      box-shadow: 0px 1px 3px 1px rgba(0, 0, 0, 0.15);\n",
              "      filter: drop-shadow(0px 1px 2px rgba(0, 0, 0, 0.3));\n",
              "      fill: #FFFFFF;\n",
              "    }\n",
              "  </style>\n",
              "\n",
              "      <script>\n",
              "        const buttonEl =\n",
              "          document.querySelector('#df-50e8bb5d-372a-4853-9eb4-5f5195385603 button.colab-df-convert');\n",
              "        buttonEl.style.display =\n",
              "          google.colab.kernel.accessAllowed ? 'block' : 'none';\n",
              "\n",
              "        async function convertToInteractive(key) {\n",
              "          const element = document.querySelector('#df-50e8bb5d-372a-4853-9eb4-5f5195385603');\n",
              "          const dataTable =\n",
              "            await google.colab.kernel.invokeFunction('convertToInteractive',\n",
              "                                                     [key], {});\n",
              "          if (!dataTable) return;\n",
              "\n",
              "          const docLinkHtml = 'Like what you see? Visit the ' +\n",
              "            '<a target=\"_blank\" href=https://colab.research.google.com/notebooks/data_table.ipynb>data table notebook</a>'\n",
              "            + ' to learn more about interactive tables.';\n",
              "          element.innerHTML = '';\n",
              "          dataTable['output_type'] = 'display_data';\n",
              "          await google.colab.output.renderOutput(dataTable, element);\n",
              "          const docLink = document.createElement('div');\n",
              "          docLink.innerHTML = docLinkHtml;\n",
              "          element.appendChild(docLink);\n",
              "        }\n",
              "      </script>\n",
              "    </div>\n",
              "  </div>\n",
              "  "
            ]
          },
          "metadata": {},
          "execution_count": 52
        }
      ]
    },
    {
      "cell_type": "code",
      "source": [
        "# method to plot selected columns\n",
        "dis = train[['e', 'i','om','w','q','ad','ma']]\n",
        "dis.hist(figsize=(14,11));\n",
        "plt.show;"
      ],
      "metadata": {
        "colab": {
          "base_uri": "https://localhost:8080/",
          "height": 532
        },
        "id": "4zgoyMRmWp05",
        "outputId": "062eab78-a0b7-4947-8211-dcb24dfd5320"
      },
      "execution_count": 58,
      "outputs": [
        {
          "output_type": "display_data",
          "data": {
            "text/plain": [
              "<Figure size 1008x792 with 9 Axes>"
            ],
            "image/png": "[encoded data removed]"
          },
          "metadata": {}
        }
      ]
    },
    {
      "cell_type": "markdown",
      "source": [
        "doubt: randomly chooses x axis values? (above plot)"
      ],
      "metadata": {
        "id": "POx9aRLG5VwJ"
      }
    }
  ]
}